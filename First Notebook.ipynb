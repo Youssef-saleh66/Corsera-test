{
    "cells": [
        {
            "metadata": {
                "collapsed": true
            },
            "cell_type": "markdown",
            "source": "<h1>Project Description</h1>\n<p>Visualizing Data using Python in Juoyter Notebook</p>"
        },
        {
            "metadata": {},
            "cell_type": "code",
            "source": "\nimport types\nimport pandas as pd\nfrom botocore.client import Config\nimport ibm_boto3\n\ndef __iter__(self): return 0\n\n# @hidden_cell\n# The following code accesses a file in your IBM Cloud Object Storage. It includes your credentials.\n# You might want to remove those credentials before you share the notebook.\nclient_f88f2bafcd824b1c93d14a418187e853 = ibm_boto3.client(service_name='s3',\n    ibm_api_key_id='I4e0oZcHNStiWauxat0fBXCHRnQEDcf1-2nNjx9db__b',\n    ibm_auth_endpoint=\"https://iam.cloud.ibm.com/oidc/token\",\n    config=Config(signature_version='oauth'),\n    endpoint_url='https://s3.eu-geo.objectstorage.service.networklayer.com')\n\nbody = client_f88f2bafcd824b1c93d14a418187e853.get_object(Bucket='test-donotdelete-pr-izvirkyecr0jfy',Key='NFLX_daily_by_quarter.csv')['Body']\n# add missing __iter__ method, so pandas accepts body as file-like object\nif not hasattr(body, \"__iter__\"): body.__iter__ = types.MethodType( __iter__, body )\n\ndf_data_1 = pd.read_csv(body)\ndf_data_1.head()\n",
            "execution_count": 1,
            "outputs": [
                {
                    "output_type": "execute_result",
                    "execution_count": 1,
                    "data": {
                        "text/plain": "         Date        Open        High         Low       Close   Adj Close  \\\n0  2017-01-03  124.959999  128.190002  124.309998  127.489998  127.489998   \n1  2017-01-04  127.489998  130.169998  126.550003  129.410004  129.410004   \n2  2017-01-05  129.220001  132.750000  128.899994  131.809998  131.809998   \n3  2017-01-06  132.080002  133.880005  129.809998  131.070007  131.070007   \n4  2017-01-09  131.479996  131.990005  129.889999  130.949997  130.949997   \n\n     Volume Quarter  \n0   9437900      Q1  \n1   7843600      Q1  \n2  10185500      Q1  \n3  10657900      Q1  \n4   5766900      Q1  ",
                        "text/html": "<div>\n<style scoped>\n    .dataframe tbody tr th:only-of-type {\n        vertical-align: middle;\n    }\n\n    .dataframe tbody tr th {\n        vertical-align: top;\n    }\n\n    .dataframe thead th {\n        text-align: right;\n    }\n</style>\n<table border=\"1\" class=\"dataframe\">\n  <thead>\n    <tr style=\"text-align: right;\">\n      <th></th>\n      <th>Date</th>\n      <th>Open</th>\n      <th>High</th>\n      <th>Low</th>\n      <th>Close</th>\n      <th>Adj Close</th>\n      <th>Volume</th>\n      <th>Quarter</th>\n    </tr>\n  </thead>\n  <tbody>\n    <tr>\n      <th>0</th>\n      <td>2017-01-03</td>\n      <td>124.959999</td>\n      <td>128.190002</td>\n      <td>124.309998</td>\n      <td>127.489998</td>\n      <td>127.489998</td>\n      <td>9437900</td>\n      <td>Q1</td>\n    </tr>\n    <tr>\n      <th>1</th>\n      <td>2017-01-04</td>\n      <td>127.489998</td>\n      <td>130.169998</td>\n      <td>126.550003</td>\n      <td>129.410004</td>\n      <td>129.410004</td>\n      <td>7843600</td>\n      <td>Q1</td>\n    </tr>\n    <tr>\n      <th>2</th>\n      <td>2017-01-05</td>\n      <td>129.220001</td>\n      <td>132.750000</td>\n      <td>128.899994</td>\n      <td>131.809998</td>\n      <td>131.809998</td>\n      <td>10185500</td>\n      <td>Q1</td>\n    </tr>\n    <tr>\n      <th>3</th>\n      <td>2017-01-06</td>\n      <td>132.080002</td>\n      <td>133.880005</td>\n      <td>129.809998</td>\n      <td>131.070007</td>\n      <td>131.070007</td>\n      <td>10657900</td>\n      <td>Q1</td>\n    </tr>\n    <tr>\n      <th>4</th>\n      <td>2017-01-09</td>\n      <td>131.479996</td>\n      <td>131.990005</td>\n      <td>129.889999</td>\n      <td>130.949997</td>\n      <td>130.949997</td>\n      <td>5766900</td>\n      <td>Q1</td>\n    </tr>\n  </tbody>\n</table>\n</div>"
                    },
                    "metadata": {}
                }
            ]
        },
        {
            "metadata": {},
            "cell_type": "code",
            "source": "",
            "execution_count": null,
            "outputs": []
        }
    ],
    "metadata": {
        "kernelspec": {
            "name": "python3",
            "display_name": "Python 3.6",
            "language": "python"
        },
        "language_info": {
            "name": "python",
            "version": "3.6.9",
            "mimetype": "text/x-python",
            "codemirror_mode": {
                "name": "ipython",
                "version": 3
            },
            "pygments_lexer": "ipython3",
            "nbconvert_exporter": "python",
            "file_extension": ".py"
        }
    },
    "nbformat": 4,
    "nbformat_minor": 1
}